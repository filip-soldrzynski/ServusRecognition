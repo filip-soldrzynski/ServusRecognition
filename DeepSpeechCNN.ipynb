{
 "cells": [
  {
   "cell_type": "code",
   "execution_count": 1,
   "metadata": {},
   "outputs": [
    {
     "name": "stderr",
     "output_type": "stream",
     "text": [
      "Using TensorFlow backend.\n"
     ]
    }
   ],
   "source": [
    "#imports\n",
    "import pandas as pd\n",
    "import numpy as np\n",
    "import os\n",
    "import librosa\n",
    "import matplotlib.pyplot as plt\n",
    "import time\n",
    "from scipy.io import wavfile as wav\n",
    "from sklearn.preprocessing import LabelEncoder\n",
    "from sklearn.model_selection import train_test_split\n",
    "from sklearn import metrics \n",
    "#keras\n",
    "from keras.utils import to_categorical\n",
    "from keras.models import Sequential\n",
    "from keras.layers import Dense, Dropout, Activation, Flatten\n",
    "from keras.layers import Convolution2D,Conv2D, MaxPooling2D\n",
    "from keras.layers import GlobalAveragePooling2D\n",
    "from keras.optimizers import Adam\n",
    "from keras.utils import np_utils"
   ]
  },
  {
   "cell_type": "code",
   "execution_count": 2,
   "metadata": {},
   "outputs": [],
   "source": [
    "#Settings\n",
    "audio_dataset_path = \"C:\\\\Users\\\\Filip\\\\Desktop\\\\Jupyter\\\\wav_dataset\"\n",
    "save_model_path = \"C:\\\\Users\\\\Filip\\\\Desktop\\\\Jupyter\\\\modelCNN\"\n",
    "#test files for prediction\n",
    "test_file_on = audio_dataset_path+\"\\\\\"+\"on\"+\"\\\\\"+\"3cc595de_nohash_1.wav\"\n",
    "test_file_down = audio_dataset_path+\"\\\\\"+\"down\"+\"\\\\\"+\"b87bdb22_nohash_1.wav\"\n",
    "test_file_right = audio_dataset_path+\"\\\\\"+\"right\"+\"\\\\\"+\"2aca1e72_nohash_1.wav\"\n",
    "class_label = [\"down\",\"go\",\"left\",\"on\",\"right\",\"stop\",\"up\"]\n",
    "#wav_sample_rate = 16000\n",
    "num_mfcc = 40\n",
    "#number of spectrograms to make (per class)\n",
    "num_files = 1500\n",
    "num_epochs = 40\n",
    "num_batch = 64\n",
    "#padding for mfcc spectrograms \n",
    "PADDING = 64\n"
   ]
  },
  {
   "cell_type": "code",
   "execution_count": 3,
   "metadata": {},
   "outputs": [],
   "source": [
    "#make mfc spectrogram out of .wav file and apply padding to it\n",
    "def get_spectrogram(file_name):\n",
    "    try:\n",
    "        audio, sample_rate = librosa.load(file_name, res_type=\"kaiser_fast\")\n",
    "        mfcc = librosa.feature.mfcc(y=audio, sr=sample_rate, n_mfcc = num_mfcc)\n",
    "        pad = PADDING - mfcc.shape[1]\n",
    "        mfcc = np.pad(mfcc, pad_width=((0,0), (0,pad)), mode=\"constant\")\n",
    "    except Except as err:\n",
    "        print(\"Error with file: \", file_name)\n",
    "        return None, None\n",
    "    return mfcc"
   ]
  },
  {
   "cell_type": "code",
   "execution_count": 4,
   "metadata": {},
   "outputs": [],
   "source": [
    "#iterate through all of files in dataset and make spectrograms out of them\n",
    "#save spectrograms in numpy DataFrame (excel-like sheet)\n",
    "def spectro_bot(dataset_path):\n",
    "    entries = []\n",
    "    start_time = time.time()\n",
    "    for dir_name in class_label:\n",
    "        print(dir_name)\n",
    "        label_index = class_label.index(dir_name)\n",
    "        dir_path = dataset_path+\"\\\\\"+dir_name\n",
    "        i = 0\n",
    "        for file_name in os.listdir(dir_path):\n",
    "            file_path = dir_path+\"\\\\\"+file_name\n",
    "            data = get_spectrogram(file_path)\n",
    "            entries.append([data, label_index])\n",
    "            i=i+1\n",
    "            if (i==num_files):\n",
    "                break\n",
    "    entries_data_frame = pd.DataFrame(entries, columns=[\"entries\", \"label\"])\n",
    "    entries_data_frame = entries_data_frame.sample(frac=1).reset_index(drop=True)\n",
    "    finish_time = time.time()\n",
    "    print(\"Finished processing {} files in {} seconds\".\n",
    "          format(len(entries_data_frame), finish_time-start_time))\n",
    "    return entries_data_frame"
   ]
  },
  {
   "cell_type": "code",
   "execution_count": 5,
   "metadata": {},
   "outputs": [
    {
     "name": "stdout",
     "output_type": "stream",
     "text": [
      "down\n",
      "go\n",
      "left\n",
      "on\n",
      "right\n",
      "stop\n",
      "up\n",
      "Finished processing 10500 files in 267.8464436531067 seconds\n"
     ]
    }
   ],
   "source": [
    "#make spectrograms\n",
    "data_frame = spectro_bot(audio_dataset_path)\n",
    "#move dataframe entries into np. array\n",
    "X = np.array(data_frame.entries.tolist())\n",
    "y = np.array(data_frame.label.tolist())\n",
    "\n",
    "#encode labels\n",
    "encoder = LabelEncoder()\n",
    "encoded_labels = to_categorical(encoder.fit_transform(y))\n",
    "\n",
    "#split dataset\n",
    "x_train, x_test, y_train, y_test = train_test_split(X, encoded_labels,\n",
    "                                                    test_size=0.25,\n",
    "                                                    random_state = 42)\n",
    "\n",
    "#reshape\n",
    "num_rows = num_mfcc\n",
    "num_columns = PADDING\n",
    "num_channels = 1\n",
    "x_train = x_train.reshape(x_train.shape[0], num_rows, num_columns, num_channels)\n",
    "x_test = x_test.reshape(x_test.shape[0], num_rows, num_columns, num_channels)\n",
    "num_labels = encoded_labels.shape[1]"
   ]
  },
  {
   "cell_type": "code",
   "execution_count": 6,
   "metadata": {},
   "outputs": [],
   "source": [
    "#=============================CNN MODEL===============================\n",
    "model = Sequential()\n",
    "#first conv\n",
    "model.add(Conv2D(filters=16, kernel_size=3,\n",
    "                 input_shape=(num_rows, num_columns, num_channels),\n",
    "                 activation='relu'))\n",
    "model.add(MaxPooling2D(pool_size=2, padding=\"same\"))\n",
    "model.add(Dropout(0.2))\n",
    "\n",
    "model.add(Conv2D(filters=32, kernel_size=3, activation='relu'))\n",
    "model.add(MaxPooling2D(pool_size=2, padding=\"same\"))\n",
    "model.add(Dropout(0.2))\n",
    "\n",
    "model.add(Conv2D(filters=64, kernel_size=3, activation='relu'))\n",
    "model.add(MaxPooling2D(pool_size=2, padding=\"same\"))\n",
    "model.add(Dropout(0.2))\n",
    "\n",
    "model.add(Conv2D(filters=128, kernel_size=3, activation='relu'))\n",
    "model.add(MaxPooling2D(pool_size=2, padding=\"same\"))\n",
    "model.add(Dropout(0.2))\n",
    "\n",
    "model.add(GlobalAveragePooling2D())\n",
    "\n",
    "model.add(Dense(num_labels, activation='softmax'))"
   ]
  },
  {
   "cell_type": "code",
   "execution_count": 7,
   "metadata": {},
   "outputs": [
    {
     "name": "stdout",
     "output_type": "stream",
     "text": [
      "Model: \"sequential_1\"\n",
      "_________________________________________________________________\n",
      "Layer (type)                 Output Shape              Param #   \n",
      "=================================================================\n",
      "conv2d_1 (Conv2D)            (None, 38, 62, 16)        160       \n",
      "_________________________________________________________________\n",
      "max_pooling2d_1 (MaxPooling2 (None, 19, 31, 16)        0         \n",
      "_________________________________________________________________\n",
      "dropout_1 (Dropout)          (None, 19, 31, 16)        0         \n",
      "_________________________________________________________________\n",
      "conv2d_2 (Conv2D)            (None, 17, 29, 32)        4640      \n",
      "_________________________________________________________________\n",
      "max_pooling2d_2 (MaxPooling2 (None, 9, 15, 32)         0         \n",
      "_________________________________________________________________\n",
      "dropout_2 (Dropout)          (None, 9, 15, 32)         0         \n",
      "_________________________________________________________________\n",
      "conv2d_3 (Conv2D)            (None, 7, 13, 64)         18496     \n",
      "_________________________________________________________________\n",
      "max_pooling2d_3 (MaxPooling2 (None, 4, 7, 64)          0         \n",
      "_________________________________________________________________\n",
      "dropout_3 (Dropout)          (None, 4, 7, 64)          0         \n",
      "_________________________________________________________________\n",
      "conv2d_4 (Conv2D)            (None, 2, 5, 128)         73856     \n",
      "_________________________________________________________________\n",
      "max_pooling2d_4 (MaxPooling2 (None, 1, 3, 128)         0         \n",
      "_________________________________________________________________\n",
      "dropout_4 (Dropout)          (None, 1, 3, 128)         0         \n",
      "_________________________________________________________________\n",
      "global_average_pooling2d_1 ( (None, 128)               0         \n",
      "_________________________________________________________________\n",
      "dense_1 (Dense)              (None, 7)                 903       \n",
      "=================================================================\n",
      "Total params: 98,055\n",
      "Trainable params: 98,055\n",
      "Non-trainable params: 0\n",
      "_________________________________________________________________\n",
      "2625/2625 [==============================] - 1s 458us/step\n",
      "Pre training: 14.59047645330429\n"
     ]
    }
   ],
   "source": [
    "#compile\n",
    "model.compile(loss='categorical_crossentropy',\n",
    "              metrics=['accuracy'],\n",
    "              optimizer='adam')\n",
    "model.summary()\n",
    "#pre-training acc\n",
    "acc = model.evaluate(x_test,y_test,verbose=1)\n",
    "print(\"Pre training: {}\".format(100*acc[1]))"
   ]
  },
  {
   "cell_type": "code",
   "execution_count": 8,
   "metadata": {},
   "outputs": [
    {
     "name": "stdout",
     "output_type": "stream",
     "text": [
      "Train on 7875 samples, validate on 2625 samples\n",
      "Epoch 1/40\n",
      "7875/7875 [==============================] - 20s 3ms/step - loss: 2.1756 - accuracy: 0.1845 - val_loss: 1.8321 - val_accuracy: 0.2743\n",
      "Epoch 2/40\n",
      "7875/7875 [==============================] - 16s 2ms/step - loss: 1.6487 - accuracy: 0.3544 - val_loss: 1.1602 - val_accuracy: 0.6381\n",
      "Epoch 3/40\n",
      "7875/7875 [==============================] - 17s 2ms/step - loss: 1.1830 - accuracy: 0.5723 - val_loss: 0.6977 - val_accuracy: 0.7844\n",
      "Epoch 4/40\n",
      "7875/7875 [==============================] - 20s 2ms/step - loss: 0.8917 - accuracy: 0.6853 - val_loss: 0.6059 - val_accuracy: 0.8080\n",
      "Epoch 5/40\n",
      "7875/7875 [==============================] - 17s 2ms/step - loss: 0.7521 - accuracy: 0.7384 - val_loss: 0.4426 - val_accuracy: 0.8590\n",
      "Epoch 6/40\n",
      "7875/7875 [==============================] - 16s 2ms/step - loss: 0.6185 - accuracy: 0.7816 - val_loss: 0.4028 - val_accuracy: 0.8728\n",
      "Epoch 7/40\n",
      "7875/7875 [==============================] - 17s 2ms/step - loss: 0.5606 - accuracy: 0.8072 - val_loss: 0.3360 - val_accuracy: 0.8891\n",
      "Epoch 8/40\n",
      "7875/7875 [==============================] - 17s 2ms/step - loss: 0.5166 - accuracy: 0.8190 - val_loss: 0.3257 - val_accuracy: 0.8895\n",
      "Epoch 9/40\n",
      "7875/7875 [==============================] - 19s 2ms/step - loss: 0.4870 - accuracy: 0.8319 - val_loss: 0.2977 - val_accuracy: 0.9048\n",
      "Epoch 10/40\n",
      "7875/7875 [==============================] - 18s 2ms/step - loss: 0.4305 - accuracy: 0.8535 - val_loss: 0.2467 - val_accuracy: 0.9204\n",
      "Epoch 11/40\n",
      "7875/7875 [==============================] - 18s 2ms/step - loss: 0.4121 - accuracy: 0.8607 - val_loss: 0.2508 - val_accuracy: 0.9208\n",
      "Epoch 12/40\n",
      "7875/7875 [==============================] - 15s 2ms/step - loss: 0.3826 - accuracy: 0.8701 - val_loss: 0.2455 - val_accuracy: 0.9192\n",
      "Epoch 13/40\n",
      "7875/7875 [==============================] - 15s 2ms/step - loss: 0.3598 - accuracy: 0.8752 - val_loss: 0.2213 - val_accuracy: 0.9272\n",
      "Epoch 14/40\n",
      "7875/7875 [==============================] - 13s 2ms/step - loss: 0.3422 - accuracy: 0.8805 - val_loss: 0.2117 - val_accuracy: 0.9291\n",
      "Epoch 15/40\n",
      "7875/7875 [==============================] - 13s 2ms/step - loss: 0.3173 - accuracy: 0.8928 - val_loss: 0.2192 - val_accuracy: 0.9265\n",
      "Epoch 16/40\n",
      "7875/7875 [==============================] - 15s 2ms/step - loss: 0.3244 - accuracy: 0.8899 - val_loss: 0.2204 - val_accuracy: 0.9250\n",
      "Epoch 17/40\n",
      "7875/7875 [==============================] - 16s 2ms/step - loss: 0.3161 - accuracy: 0.8923 - val_loss: 0.2130 - val_accuracy: 0.9242\n",
      "Epoch 18/40\n",
      "7875/7875 [==============================] - 15s 2ms/step - loss: 0.3138 - accuracy: 0.8905 - val_loss: 0.1878 - val_accuracy: 0.9333\n",
      "Epoch 19/40\n",
      "7875/7875 [==============================] - 15s 2ms/step - loss: 0.2830 - accuracy: 0.9055 - val_loss: 0.1904 - val_accuracy: 0.9390\n",
      "Epoch 20/40\n",
      "7875/7875 [==============================] - 12s 2ms/step - loss: 0.2819 - accuracy: 0.9034 - val_loss: 0.1831 - val_accuracy: 0.9413\n",
      "Epoch 21/40\n",
      "7875/7875 [==============================] - 12s 2ms/step - loss: 0.2776 - accuracy: 0.9029 - val_loss: 0.1758 - val_accuracy: 0.9387\n",
      "Epoch 22/40\n",
      "7875/7875 [==============================] - 13s 2ms/step - loss: 0.2516 - accuracy: 0.9144 - val_loss: 0.1909 - val_accuracy: 0.9371\n",
      "Epoch 23/40\n",
      "7875/7875 [==============================] - 12s 2ms/step - loss: 0.2644 - accuracy: 0.9079 - val_loss: 0.1786 - val_accuracy: 0.9375\n",
      "Epoch 24/40\n",
      "7875/7875 [==============================] - 12s 2ms/step - loss: 0.2487 - accuracy: 0.9163 - val_loss: 0.1814 - val_accuracy: 0.9410\n",
      "Epoch 25/40\n",
      "7875/7875 [==============================] - 13s 2ms/step - loss: 0.2557 - accuracy: 0.9124 - val_loss: 0.1886 - val_accuracy: 0.9360\n",
      "Epoch 26/40\n",
      "7875/7875 [==============================] - 13s 2ms/step - loss: 0.2312 - accuracy: 0.9197 - val_loss: 0.1755 - val_accuracy: 0.9440\n",
      "Epoch 27/40\n",
      "7875/7875 [==============================] - 13s 2ms/step - loss: 0.2372 - accuracy: 0.9189 - val_loss: 0.1626 - val_accuracy: 0.9455\n",
      "Epoch 28/40\n",
      "7875/7875 [==============================] - 13s 2ms/step - loss: 0.2178 - accuracy: 0.9261 - val_loss: 0.1772 - val_accuracy: 0.9432\n",
      "Epoch 29/40\n",
      "7875/7875 [==============================] - 12s 2ms/step - loss: 0.2115 - accuracy: 0.9299 - val_loss: 0.1700 - val_accuracy: 0.9432\n",
      "Epoch 30/40\n",
      "7875/7875 [==============================] - 13s 2ms/step - loss: 0.2283 - accuracy: 0.9196 - val_loss: 0.1762 - val_accuracy: 0.9406\n",
      "Epoch 31/40\n",
      "7875/7875 [==============================] - 12s 2ms/step - loss: 0.2041 - accuracy: 0.9298 - val_loss: 0.1643 - val_accuracy: 0.9463\n",
      "Epoch 32/40\n",
      "7875/7875 [==============================] - 13s 2ms/step - loss: 0.2130 - accuracy: 0.9258 - val_loss: 0.1717 - val_accuracy: 0.9390\n",
      "Epoch 33/40\n",
      "7875/7875 [==============================] - 12s 2ms/step - loss: 0.1916 - accuracy: 0.9327 - val_loss: 0.1633 - val_accuracy: 0.9486\n",
      "Epoch 34/40\n",
      "7875/7875 [==============================] - 12s 2ms/step - loss: 0.2161 - accuracy: 0.9244 - val_loss: 0.1650 - val_accuracy: 0.9459\n",
      "Epoch 35/40\n",
      "7875/7875 [==============================] - 13s 2ms/step - loss: 0.1829 - accuracy: 0.9373 - val_loss: 0.1671 - val_accuracy: 0.9451\n",
      "Epoch 36/40\n",
      "7875/7875 [==============================] - 13s 2ms/step - loss: 0.1750 - accuracy: 0.9379 - val_loss: 0.1691 - val_accuracy: 0.9410\n",
      "Epoch 37/40\n",
      "7875/7875 [==============================] - 12s 2ms/step - loss: 0.1760 - accuracy: 0.9423 - val_loss: 0.1816 - val_accuracy: 0.9406\n",
      "Epoch 38/40\n",
      "7875/7875 [==============================] - 13s 2ms/step - loss: 0.1804 - accuracy: 0.9389 - val_loss: 0.1814 - val_accuracy: 0.9421\n",
      "Epoch 39/40\n",
      "7875/7875 [==============================] - 14s 2ms/step - loss: 0.1784 - accuracy: 0.9397 - val_loss: 0.1802 - val_accuracy: 0.9406\n",
      "Epoch 40/40\n",
      "7875/7875 [==============================] - 15s 2ms/step - loss: 0.1820 - accuracy: 0.9394 - val_loss: 0.1706 - val_accuracy: 0.9413\n",
      "Training time: 579.467212677002 seconds\n"
     ]
    }
   ],
   "source": [
    "#train\n",
    "start_time = time.time()\n",
    "history = model.fit(x_train, y_train,\n",
    "                    batch_size=num_batch, \n",
    "                    epochs=num_epochs, \n",
    "                    validation_data=(x_test, y_test), \n",
    "                    verbose=1)\n",
    "finish_time = time.time() - start_time\n",
    "print(\"Training time: {} seconds\".format(finish_time))\n",
    "\n",
    "#save model\n",
    "model.save(save_model_path)"
   ]
  },
  {
   "cell_type": "code",
   "execution_count": 9,
   "metadata": {},
   "outputs": [
    {
     "name": "stdout",
     "output_type": "stream",
     "text": [
      "Training Accuracy:  0.9902222156524658\n",
      "Testing Accuracy:  0.9413333535194397\n"
     ]
    }
   ],
   "source": [
    "#evaluate\n",
    "acc = model.evaluate(x_train, y_train, verbose=0)\n",
    "print(\"Training Accuracy: \", acc[1])\n",
    "acc = model.evaluate(x_test, y_test, verbose=0)\n",
    "print(\"Testing Accuracy: \", acc[1])"
   ]
  },
  {
   "cell_type": "code",
   "execution_count": 10,
   "metadata": {},
   "outputs": [],
   "source": [
    "#make prediction and print it in human-readable format\n",
    "def make_prediction(file_name, model):\n",
    "    spectro = get_spectrogram(file_name)\n",
    "    spectro = spectro.reshape(1, num_rows, num_columns, num_channels)\n",
    "    prediction = model.predict_classes(spectro)\n",
    "    predicted_class = encoder.inverse_transform(prediction)\n",
    "    \n",
    "    print(\"Predicted class:\", class_label[predicted_class[0]], '\\n') \n",
    "    \n",
    "    #probabilities\n",
    "    prediction_prob = model.predict_proba(spectro) \n",
    "    predicted = prediction_prob[0]\n",
    "    for i in range(len(predicted)): \n",
    "        category = encoder.inverse_transform(np.array([i]))\n",
    "        print(category[0], \"\\t\\t : \", format(predicted[i], '.32f') )\n"
   ]
  },
  {
   "cell_type": "code",
   "execution_count": 11,
   "metadata": {
    "scrolled": true
   },
   "outputs": [
    {
     "name": "stdout",
     "output_type": "stream",
     "text": [
      "Predicted class: right \n",
      "\n",
      "0 \t\t :  0.00000168042754467023769393563271\n",
      "1 \t\t :  0.00000089598358954390278086066246\n",
      "2 \t\t :  0.00003339293107273988425731658936\n",
      "3 \t\t :  0.00000828095198812661692500114441\n",
      "4 \t\t :  0.99995493888854980468750000000000\n",
      "5 \t\t :  0.00000069632091026505804620683193\n",
      "6 \t\t :  0.00000010637769776167260715737939\n"
     ]
    }
   ],
   "source": [
    "make_prediction(test_file_right, model)"
   ]
  },
  {
   "cell_type": "code",
   "execution_count": 12,
   "metadata": {},
   "outputs": [
    {
     "data": {
      "image/png": "[encoded data removed]",
      "text/plain": [
       "<Figure size 432x288 with 1 Axes>"
      ]
     },
     "metadata": {
      "needs_background": "light"
     },
     "output_type": "display_data"
    },
    {
     "data": {
      "image/png": "[encoded data removed]",
      "text/plain": [
       "<Figure size 432x288 with 1 Axes>"
      ]
     },
     "metadata": {
      "needs_background": "light"
     },
     "output_type": "display_data"
    }
   ],
   "source": [
    "#plot\n",
    "acc = history.history['accuracy']\n",
    "val_acc = history.history['val_accuracy']\n",
    "loss = history.history['loss']\n",
    "val_loss = history.history['val_loss']\n",
    "epochs = range(1, len(acc) + 1)\n",
    "\n",
    "plt.plot(epochs, acc, 'b', label='Training acc')\n",
    "plt.plot(epochs, val_acc, 'g', label='Validation acc')\n",
    "plt.xlabel('Epochs')\n",
    "plt.ylabel('Accuracy')\n",
    "\n",
    "plt.title('Training and validation accuracy')\n",
    "plt.legend()\n",
    "fig = plt.figure()\n",
    "fig.savefig('acc.png')\n",
    "\n",
    "\n",
    "plt.plot(epochs, loss, 'b', label='Training loss')\n",
    "plt.plot(epochs, val_loss, 'g', label='Validation loss')\n",
    "plt.xlabel('Epochs')\n",
    "plt.ylabel('Loss')\n",
    "plt.title('Training and validation loss')\n",
    "\n",
    "plt.legend()\n",
    "plt.show()"
   ]
  },
  {
   "cell_type": "code",
   "execution_count": null,
   "metadata": {},
   "outputs": [],
   "source": []
  }
 ],
 "metadata": {
  "kernelspec": {
   "display_name": "Python 3",
   "language": "python",
   "name": "python3"
  },
  "language_info": {
   "codemirror_mode": {
    "name": "ipython",
    "version": 3
   },
   "file_extension": ".py",
   "mimetype": "text/x-python",
   "name": "python",
   "nbconvert_exporter": "python",
   "pygments_lexer": "ipython3",
   "version": "3.7.0"
  }
 },
 "nbformat": 4,
 "nbformat_minor": 4
}
