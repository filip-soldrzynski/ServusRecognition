{
 "cells": [
  {
   "cell_type": "code",
   "execution_count": 1,
   "metadata": {},
   "outputs": [
    {
     "name": "stderr",
     "output_type": "stream",
     "text": [
      "Using TensorFlow backend.\n"
     ]
    }
   ],
   "source": [
    "from keras.models import load_model\n",
    "from tensorflow import keras\n",
    "import pyaudio\n",
    "import math\n",
    "import struct\n",
    "import wave\n",
    "import time\n",
    "import os\n",
    "import librosa\n",
    "import numpy as np"
   ]
  },
  {
   "cell_type": "code",
   "execution_count": 2,
   "metadata": {},
   "outputs": [],
   "source": [
    "#SETTINGS\n",
    "saved_model_path = \"C:\\\\Users\\\\Filip\\\\Desktop\\\\Jupyter\\\\modelCNN\"\n",
    "wav_file_path = \"C:\\\\Users\\\\Filip\\\\Desktop\\\\Jupyter\\\\rec.wav\"\n",
    "#silence treshold\n",
    "TRESHOLD = 12\n",
    "SAMPLE_RATE = 16000\n",
    "NUM_CHANNELS = 1\n",
    "CHUNK_SIZE = 1024\n",
    "AUDIO_FORMAT = pyaudio.paInt16\n",
    "#in seconds\n",
    "REC_LENGTH = 1\n",
    "S_WIDTH = 2\n",
    "NORMALIZATION = (1.0/32768.0)\n",
    "PADDING = 64\n",
    "NUM_MFCC = 40\n",
    "class_label = [\"down\",\"go\",\"left\",\"on\",\"right\",\"stop\",\"up\"]"
   ]
  },
  {
   "cell_type": "code",
   "execution_count": 3,
   "metadata": {},
   "outputs": [],
   "source": [
    "model = keras.models.load_model(saved_model_path)\n",
    "#record file init\n",
    "pyaud = pyaudio.PyAudio()\n",
    "stream = pyaud.open(format=AUDIO_FORMAT, \n",
    "                    channels=NUM_CHANNELS, \n",
    "                    rate=SAMPLE_RATE, \n",
    "                    input=True, output=True, \n",
    "                    frames_per_buffer=CHUNK_SIZE)"
   ]
  },
  {
   "cell_type": "code",
   "execution_count": 4,
   "metadata": {},
   "outputs": [],
   "source": [
    "#get rms\n",
    "def rms(frame):\n",
    "        unpack_format = \"%dh\" % (len(frame)/S_WIDTH)\n",
    "        unpacked = struct.unpack(unpack_format, frame)\n",
    "        square_sum = 0\n",
    "        \n",
    "        for sample in unpacked:\n",
    "            n = sample * NORMALIZATION\n",
    "            square_sum = square_sum + n*n\n",
    "            \n",
    "        rms = math.sqrt(square_sum / (len(frame)/S_WIDTH))\n",
    "        \n",
    "        return rms*1000"
   ]
  },
  {
   "cell_type": "code",
   "execution_count": 5,
   "metadata": {},
   "outputs": [],
   "source": [
    "#save file as .wav\n",
    "def save(recording):\n",
    "        file = wave.open(wav_file_path,\"wb\")\n",
    "        file.setnchannels(NUM_CHANNELS)\n",
    "        file.setsampwidth(pyaud.get_sample_size(AUDIO_FORMAT))\n",
    "        file.setframerate(SAMPLE_RATE)\n",
    "        file.writeframes(recording)\n",
    "        file.close()"
   ]
  },
  {
   "cell_type": "code",
   "execution_count": 6,
   "metadata": {},
   "outputs": [],
   "source": [
    "#make spectrogram out of .wav file\n",
    "def get_spectrogram(file_name):\n",
    "        try:\n",
    "            audio, sample_rate = librosa.load(file_name,\n",
    "                                              res_type=\"kaiser_fast\")\n",
    "            mfcc = librosa.feature.mfcc(y=audio, sr=sample_rate,\n",
    "                                        n_mfcc = NUM_MFCC)\n",
    "            pad = PADDING - mfcc.shape[1]\n",
    "            mfcc = np.pad(mfcc, pad_width=((0,0), (0,pad)), mode=\"constant\")\n",
    "        except:\n",
    "            print(\"Error with file: \", file_name)\n",
    "            return None, None\n",
    "        return mfcc"
   ]
  },
  {
   "cell_type": "code",
   "execution_count": 7,
   "metadata": {},
   "outputs": [],
   "source": [
    "def make_prediction(file_name):\n",
    "    spectro = get_spectrogram(file_name)\n",
    "    spectro = spectro.reshape(1, NUM_MFCC, PADDING, NUM_CHANNELS)\n",
    "    prediction = model.predict_classes(spectro)\n",
    "    print(\"Predicted class: {}\".format(class_label[int(prediction)]))     "
   ]
  },
  {
   "cell_type": "code",
   "execution_count": 8,
   "metadata": {},
   "outputs": [],
   "source": [
    "def record():\n",
    "    print(\"rec start\")\n",
    "    recording = []\n",
    "    start_time = time.time()\n",
    "    finish_time = start_time + REC_LENGTH\n",
    "        \n",
    "    while start_time <= finish_time:\n",
    "        frame = stream.read(CHUNK_SIZE)\n",
    "        start_time = time.time()\n",
    "        recording.append(frame)\n",
    "    print(\"rec stop\")\n",
    "    save(b''.join(recording))\n",
    "    make_prediction(wav_file_path)"
   ]
  },
  {
   "cell_type": "code",
   "execution_count": 9,
   "metadata": {},
   "outputs": [],
   "source": [
    "def loop():\n",
    "    print(\"starting loop\")\n",
    "    while True:\n",
    "        input = stream.read(CHUNK_SIZE)\n",
    "        if rms(input) > TRESHOLD:\n",
    "            record()"
   ]
  },
  {
   "cell_type": "code",
   "execution_count": 10,
   "metadata": {
    "scrolled": true
   },
   "outputs": [
    {
     "name": "stdout",
     "output_type": "stream",
     "text": [
      "starting loop\n",
      "rec start\n",
      "rec stop\n",
      "Predicted class: on\n",
      "rec start\n",
      "rec stop\n",
      "Predicted class: on\n",
      "rec start\n",
      "rec stop\n",
      "Predicted class: stop\n",
      "rec start\n",
      "rec stop\n",
      "Predicted class: up\n",
      "rec start\n",
      "rec stop\n",
      "Predicted class: up\n",
      "rec start\n",
      "rec stop\n",
      "Predicted class: left\n",
      "rec start\n",
      "rec stop\n",
      "Predicted class: up\n",
      "rec start\n",
      "rec stop\n",
      "Predicted class: up\n",
      "rec start\n",
      "rec stop\n",
      "Predicted class: up\n",
      "rec start\n",
      "rec stop\n",
      "Predicted class: on\n",
      "rec start\n",
      "rec stop\n",
      "Predicted class: up\n",
      "rec start\n",
      "rec stop\n",
      "Predicted class: on\n",
      "rec start\n",
      "rec stop\n",
      "Predicted class: left\n",
      "rec start\n",
      "rec stop\n",
      "Predicted class: down\n",
      "rec start\n",
      "rec stop\n",
      "Predicted class: up\n",
      "rec start\n",
      "rec stop\n",
      "Predicted class: stop\n",
      "rec start\n",
      "rec stop\n",
      "Predicted class: on\n"
     ]
    },
    {
     "ename": "KeyboardInterrupt",
     "evalue": "",
     "output_type": "error",
     "traceback": [
      "\u001b[1;31m---------------------------------------------------------------------------\u001b[0m",
      "\u001b[1;31mKeyboardInterrupt\u001b[0m                         Traceback (most recent call last)",
      "\u001b[1;32m<ipython-input-10-fb0663344fbc>\u001b[0m in \u001b[0;36m<module>\u001b[1;34m\u001b[0m\n\u001b[1;32m----> 1\u001b[1;33m \u001b[0mloop\u001b[0m\u001b[1;33m(\u001b[0m\u001b[1;33m)\u001b[0m\u001b[1;33m\u001b[0m\u001b[0m\n\u001b[0m",
      "\u001b[1;32m<ipython-input-9-c93d89d04a46>\u001b[0m in \u001b[0;36mloop\u001b[1;34m()\u001b[0m\n\u001b[0;32m      2\u001b[0m     \u001b[0mprint\u001b[0m\u001b[1;33m(\u001b[0m\u001b[1;34m\"starting loop\"\u001b[0m\u001b[1;33m)\u001b[0m\u001b[1;33m\u001b[0m\u001b[0m\n\u001b[0;32m      3\u001b[0m     \u001b[1;32mwhile\u001b[0m \u001b[1;32mTrue\u001b[0m\u001b[1;33m:\u001b[0m\u001b[1;33m\u001b[0m\u001b[0m\n\u001b[1;32m----> 4\u001b[1;33m         \u001b[0minput\u001b[0m \u001b[1;33m=\u001b[0m \u001b[0mstream\u001b[0m\u001b[1;33m.\u001b[0m\u001b[0mread\u001b[0m\u001b[1;33m(\u001b[0m\u001b[0mCHUNK_SIZE\u001b[0m\u001b[1;33m)\u001b[0m\u001b[1;33m\u001b[0m\u001b[0m\n\u001b[0m\u001b[0;32m      5\u001b[0m         \u001b[1;32mif\u001b[0m \u001b[0mrms\u001b[0m\u001b[1;33m(\u001b[0m\u001b[0minput\u001b[0m\u001b[1;33m)\u001b[0m \u001b[1;33m>\u001b[0m \u001b[0mTRESHOLD\u001b[0m\u001b[1;33m:\u001b[0m\u001b[1;33m\u001b[0m\u001b[0m\n\u001b[0;32m      6\u001b[0m             \u001b[0mrecord\u001b[0m\u001b[1;33m(\u001b[0m\u001b[1;33m)\u001b[0m\u001b[1;33m\u001b[0m\u001b[0m\n",
      "\u001b[1;32mc:\\program files\\python37\\lib\\site-packages\\pyaudio.py\u001b[0m in \u001b[0;36mread\u001b[1;34m(self, num_frames, exception_on_overflow)\u001b[0m\n\u001b[0;32m    606\u001b[0m                           paCanNotReadFromAnOutputOnlyStream)\n\u001b[0;32m    607\u001b[0m \u001b[1;33m\u001b[0m\u001b[0m\n\u001b[1;32m--> 608\u001b[1;33m         \u001b[1;32mreturn\u001b[0m \u001b[0mpa\u001b[0m\u001b[1;33m.\u001b[0m\u001b[0mread_stream\u001b[0m\u001b[1;33m(\u001b[0m\u001b[0mself\u001b[0m\u001b[1;33m.\u001b[0m\u001b[0m_stream\u001b[0m\u001b[1;33m,\u001b[0m \u001b[0mnum_frames\u001b[0m\u001b[1;33m,\u001b[0m \u001b[0mexception_on_overflow\u001b[0m\u001b[1;33m)\u001b[0m\u001b[1;33m\u001b[0m\u001b[0m\n\u001b[0m\u001b[0;32m    609\u001b[0m \u001b[1;33m\u001b[0m\u001b[0m\n\u001b[0;32m    610\u001b[0m     \u001b[1;32mdef\u001b[0m \u001b[0mget_read_available\u001b[0m\u001b[1;33m(\u001b[0m\u001b[0mself\u001b[0m\u001b[1;33m)\u001b[0m\u001b[1;33m:\u001b[0m\u001b[1;33m\u001b[0m\u001b[0m\n",
      "\u001b[1;31mKeyboardInterrupt\u001b[0m: "
     ]
    }
   ],
   "source": [
    "loop()"
   ]
  },
  {
   "cell_type": "code",
   "execution_count": null,
   "metadata": {},
   "outputs": [],
   "source": []
  }
 ],
 "metadata": {
  "kernelspec": {
   "display_name": "Python 3",
   "language": "python",
   "name": "python3"
  },
  "language_info": {
   "codemirror_mode": {
    "name": "ipython",
    "version": 3
   },
   "file_extension": ".py",
   "mimetype": "text/x-python",
   "name": "python",
   "nbconvert_exporter": "python",
   "pygments_lexer": "ipython3",
   "version": "3.7.0"
  }
 },
 "nbformat": 4,
 "nbformat_minor": 4
}
